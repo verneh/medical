{
  "nbformat": 4,
  "nbformat_minor": 0,
  "metadata": {
    "colab": {
      "name": "caranx.ipynb",
      "provenance": [],
      "collapsed_sections": [
        "slpY8jDsxsrO",
        "o322hKswlkVB",
        "5LhTvZbklgG5"
      ],
      "toc_visible": true
    },
    "kernelspec": {
      "name": "python3",
      "display_name": "Python 3"
    },
    "language_info": {
      "name": "python"
    }
  },
  "cells": [
    {
      "cell_type": "markdown",
      "metadata": {
        "id": "zIAB7uDdumwj"
      },
      "source": [
        "# **Automated Keyword Extraction**\n",
        "\n",
        "for Caranx Medical. The things I did along the way."
      ]
    },
    {
      "cell_type": "markdown",
      "metadata": {
        "id": "t-wNVmv4-ku0"
      },
      "source": [
        "## **Parsing the Data**"
      ]
    },
    {
      "cell_type": "markdown",
      "metadata": {
        "id": "qSTEhnTV_Z_q"
      },
      "source": [
        "We want to be able to parse the docx file and to do that we do the following:"
      ]
    },
    {
      "cell_type": "code",
      "metadata": {
        "id": "kdohDp2K7jTz"
      },
      "source": [
        "# install python-docx to read, write doc files.\n",
        "!pip install python-docx"
      ],
      "execution_count": null,
      "outputs": []
    },
    {
      "cell_type": "code",
      "metadata": {
        "id": "KaeSx5bv7Jcc"
      },
      "source": [
        "# import python-docx.\n",
        "import docx"
      ],
      "execution_count": 226,
      "outputs": []
    },
    {
      "cell_type": "code",
      "metadata": {
        "id": "oBQxqgU57T_0"
      },
      "source": [
        "# Open our document.\n",
        "report = docx.Document('report_english.docx')"
      ],
      "execution_count": 227,
      "outputs": []
    },
    {
      "cell_type": "code",
      "metadata": {
        "colab": {
          "base_uri": "https://localhost:8080/"
        },
        "id": "u24HzEBd-3dy",
        "outputId": "bfc31a90-1d22-409e-e317-fc7d3a1ef884"
      },
      "source": [
        "# Check the number of paragraphs.\n",
        "section = report.paragraphs\n",
        "print(len(section))"
      ],
      "execution_count": 228,
      "outputs": [
        {
          "output_type": "stream",
          "text": [
            "8\n"
          ],
          "name": "stdout"
        }
      ]
    },
    {
      "cell_type": "code",
      "metadata": {
        "colab": {
          "base_uri": "https://localhost:8080/"
        },
        "id": "XoSWgEmT-RVi",
        "outputId": "5098c177-5b59-414b-9100-0402375fbbf1"
      },
      "source": [
        "# Iterate and print paragraphs.\n",
        "for section in report.paragraphs:\n",
        "    print(section.text)"
      ],
      "execution_count": 229,
      "outputs": [
        {
          "output_type": "stream",
          "text": [
            "Operative Report:\n",
            "\n",
            "Procedure: Bilateral upper lid blepharopoasty, (CPT 15822\n",
            "Anesthesia: Lidocaine with l:100,000 epinephrine\n",
            "\n",
            "This 65-year-old female demonstrates conditions of excess and redundant eyelid skin with puffiness and has requested surgical correction. \n",
            "The patient was brought into the operating room and placed in the supine position on the operating table. An intravenous line was started, and sedation and sedation anesthesia was administered IV after preoperative P.O. sedation. The patient was monitored for cardiac rate, blood pressure, and oxygen saturation continuously. The excess and redundant skin of the upper lids producing redundancy and impairment of lateral vision was carefully measured, and the incisions were marked for fusiform excision with a marking pen. The surgical calipers were used to measure the supratarsal incisions so that the incision was symmetrical from the ciliary margin bilaterally. The upper eyelid areas were bilaterally injected with 1% Lidocaine with 1:100,000 Epinephrine for anesthesia and vasoconstriction. The plane of injection was superficial and external to the orbital septum of the upper and lower eyelids bilaterally. The face was prepped and draped in the usual sterile manner. After waiting a period of approximately ten minutes for adequate vasoconstriction, the previously outlined excessive skin of the right upper eyelid was excised with blunt dissection. Hemostasis was obtained with a bipolar cautery. A thin strip of orbicularis oculi muscle was excised in order to expose the orbital septum on the right. The defect in the orbital septum was identified, and herniated orbital fat was exposed. The abnormally protruding positions in the medial pocket were carefully excised and the stalk meticulously cauterized with the bipolar cautery unit. A similar procedure was performed exposing herniated portion of the nasal pocket. Great care was taken to obtain perfect hemostasis with this maneuver. A similar procedure of removing skin and taking care of the herniated fat was performed on the left upper eyelid in the same fashion. Careful hemostasis had been obtained on the upper lid areas. The lateral aspects of the upper eyelid incisions were closed with a couple of interrupted 7 – 0 blue prolene sutures. At the end of the operation the patientʼs vision and extraocular muscle movements were checked and found to be intact. There was no diplopia,no ptosis, no ectropion. Wounds were reexamined for hemostasis, and no hematomas were noted. Cooled saline compresses were placed over the upper and lower eyelid regions bilaterally. The procedures were completed without complication and tolerated well. \n",
            "The patient left the operating room in satisfactory condition.\n"
          ],
          "name": "stdout"
        }
      ]
    },
    {
      "cell_type": "markdown",
      "metadata": {
        "id": "G64osnr6BP1t"
      },
      "source": [
        "As we can see, we actually have six \"actual\" paragraphs and not 8 as described by the function above. The blank spaces are considered paragraphs and we don't need these two blank spaces."
      ]
    },
    {
      "cell_type": "markdown",
      "metadata": {
        "id": "q8Y1W6SU7xHz"
      },
      "source": [
        "We just have to convert this into a string that gets rid of the spaces. Initially went with a list."
      ]
    },
    {
      "cell_type": "code",
      "metadata": {
        "colab": {
          "base_uri": "https://localhost:8080/"
        },
        "id": "S03tYDYyC2JD",
        "outputId": "cb2177f9-3c4b-4ead-afff-be38d00e87c9"
      },
      "source": [
        "paras = [p.text for p in report.paragraphs if p.text]  \n",
        "print(paras)"
      ],
      "execution_count": 230,
      "outputs": [
        {
          "output_type": "stream",
          "text": [
            "['Operative Report:', 'Procedure: Bilateral upper lid blepharopoasty, (CPT 15822', 'Anesthesia: Lidocaine with l:100,000 epinephrine', 'This 65-year-old female demonstrates conditions of excess and redundant eyelid skin with puffiness and has requested surgical correction. ', 'The patient was brought into the operating room and placed in the supine position on the operating table. An intravenous line was started, and sedation and sedation anesthesia was administered IV after preoperative P.O. sedation. The patient was monitored for cardiac rate, blood pressure, and oxygen saturation continuously. The excess and redundant skin of the upper lids producing redundancy and impairment of lateral vision was carefully measured, and the incisions were marked for fusiform excision with a marking pen. The surgical calipers were used to measure the supratarsal incisions so that the incision was symmetrical from the ciliary margin bilaterally. The upper eyelid areas were bilaterally injected with 1% Lidocaine with 1:100,000 Epinephrine for anesthesia and vasoconstriction. The plane of injection was superficial and external to the orbital septum of the upper and lower eyelids bilaterally. The face was prepped and draped in the usual sterile manner. After waiting a period of approximately ten minutes for adequate vasoconstriction, the previously outlined excessive skin of the right upper eyelid was excised with blunt dissection. Hemostasis was obtained with a bipolar cautery. A thin strip of orbicularis oculi muscle was excised in order to expose the orbital septum on the right. The defect in the orbital septum was identified, and herniated orbital fat was exposed. The abnormally protruding positions in the medial pocket were carefully excised and the stalk meticulously cauterized with the bipolar cautery unit. A similar procedure was performed exposing herniated portion of the nasal pocket. Great care was taken to obtain perfect hemostasis with this maneuver. A similar procedure of removing skin and taking care of the herniated fat was performed on the left upper eyelid in the same fashion. Careful hemostasis had been obtained on the upper lid areas. The lateral aspects of the upper eyelid incisions were closed with a couple of interrupted 7 – 0 blue prolene sutures. At the end of the operation the patientʼs vision and extraocular muscle movements were checked and found to be intact. There was no diplopia,no ptosis, no ectropion. Wounds were reexamined for hemostasis, and no hematomas were noted. Cooled saline compresses were placed over the upper and lower eyelid regions bilaterally. The procedures were completed without complication and tolerated well. ', 'The patient left the operating room in satisfactory condition.']\n"
          ],
          "name": "stdout"
        }
      ]
    },
    {
      "cell_type": "markdown",
      "metadata": {
        "id": "Sj94ewaFkgxY"
      },
      "source": [
        "Realized maybe it's better to create a function to get the document and since we only care about the text..."
      ]
    },
    {
      "cell_type": "code",
      "metadata": {
        "id": "0L0UTMEBkKWh"
      },
      "source": [
        "# Let's create a function to parse the text.\n",
        "def getText(filename):\n",
        "    \"\"\"\n",
        "    The getText() function opens the Word document, \n",
        "    loops over all the Paragraph objects in the paragraphs \n",
        "    list, and then appends their text to the list in fullText.\n",
        "\n",
        "    After the loop, the strings in fullText are joined together \n",
        "    with newline characters.\n",
        "    \"\"\"\n",
        "    doc = docx.Document(filename)\n",
        "    fullText = []\n",
        "    for para in doc.paragraphs:\n",
        "        fullText.append(para.text)\n",
        "\n",
        "    return ' '.join(fullText)"
      ],
      "execution_count": 231,
      "outputs": []
    },
    {
      "cell_type": "code",
      "metadata": {
        "colab": {
          "base_uri": "https://localhost:8080/",
          "height": 137
        },
        "id": "FekuDK91klJi",
        "outputId": "e6cab59d-109a-4955-bba6-b826f66d77a2"
      },
      "source": [
        "# Use our function.\n",
        "text = getText(\"report_english.docx\")\n",
        "text"
      ],
      "execution_count": 232,
      "outputs": [
        {
          "output_type": "execute_result",
          "data": {
            "application/vnd.google.colaboratory.intrinsic+json": {
              "type": "string"
            },
            "text/plain": [
              "'Operative Report:  Procedure: Bilateral upper lid blepharopoasty, (CPT 15822 Anesthesia: Lidocaine with l:100,000 epinephrine  This 65-year-old female demonstrates conditions of excess and redundant eyelid skin with puffiness and has requested surgical correction.  The patient was brought into the operating room and placed in the supine position on the operating table. An intravenous line was started, and sedation and sedation anesthesia was administered IV after preoperative P.O. sedation. The patient was monitored for cardiac rate, blood pressure, and oxygen saturation continuously. The excess and redundant skin of the upper lids producing redundancy and impairment of lateral vision was carefully measured, and the incisions were marked for fusiform excision with a marking pen. The surgical calipers were used to measure the supratarsal incisions so that the incision was symmetrical from the ciliary margin bilaterally. The upper eyelid areas were bilaterally injected with 1% Lidocaine with 1:100,000 Epinephrine for anesthesia and vasoconstriction. The plane of injection was superficial and external to the orbital septum of the upper and lower eyelids bilaterally. The face was prepped and draped in the usual sterile manner. After waiting a period of approximately ten minutes for adequate vasoconstriction, the previously outlined excessive skin of the right upper eyelid was excised with blunt dissection. Hemostasis was obtained with a bipolar cautery. A thin strip of orbicularis oculi muscle was excised in order to expose the orbital septum on the right. The defect in the orbital septum was identified, and herniated orbital fat was exposed. The abnormally protruding positions in the medial pocket were carefully excised and the stalk meticulously cauterized with the bipolar cautery unit. A similar procedure was performed exposing herniated portion of the nasal pocket. Great care was taken to obtain perfect hemostasis with this maneuver. A similar procedure of removing skin and taking care of the herniated fat was performed on the left upper eyelid in the same fashion. Careful hemostasis had been obtained on the upper lid areas. The lateral aspects of the upper eyelid incisions were closed with a couple of interrupted 7 – 0 blue prolene sutures. At the end of the operation the patientʼs vision and extraocular muscle movements were checked and found to be intact. There was no diplopia,no ptosis, no ectropion. Wounds were reexamined for hemostasis, and no hematomas were noted. Cooled saline compresses were placed over the upper and lower eyelid regions bilaterally. The procedures were completed without complication and tolerated well.  The patient left the operating room in satisfactory condition.'"
            ]
          },
          "metadata": {
            "tags": []
          },
          "execution_count": 232
        }
      ]
    },
    {
      "cell_type": "markdown",
      "metadata": {
        "id": "xkMbl_gdo8CX"
      },
      "source": [
        "and now we have our text!"
      ]
    },
    {
      "cell_type": "markdown",
      "metadata": {
        "id": "icSkKNuyGrRf"
      },
      "source": [
        "## **Preprocess the Data**"
      ]
    },
    {
      "cell_type": "markdown",
      "metadata": {
        "id": "HmVfh1HhQi9E"
      },
      "source": [
        "We import libraries for preprocessing."
      ]
    },
    {
      "cell_type": "code",
      "metadata": {
        "id": "h4LNf_Gch6jE"
      },
      "source": [
        "# Libraries for preprocessing\n",
        "import re\n",
        "import nltk\n",
        "\n",
        "from nltk.tokenize import word_tokenize\n",
        "from nltk.corpus import stopwords"
      ],
      "execution_count": 233,
      "outputs": []
    },
    {
      "cell_type": "code",
      "metadata": {
        "id": "uqQgznPjoZ3g"
      },
      "source": [
        "# The idea is to tokenize the string so that we get the actual words.\n",
        "# we download punkt first then stopwords\n",
        "nltk.download('punkt')\n",
        "nltk.download('stopwords')"
      ],
      "execution_count": null,
      "outputs": []
    },
    {
      "cell_type": "markdown",
      "metadata": {
        "id": "PGRaZrJoZukY"
      },
      "source": [
        "# **Tokenization**"
      ]
    },
    {
      "cell_type": "code",
      "metadata": {
        "colab": {
          "base_uri": "https://localhost:8080/",
          "height": 137
        },
        "id": "Wedf5TNmofUy",
        "outputId": "8fc1abf4-156f-46ea-8f9e-7caf27d5e0d5"
      },
      "source": [
        "# We will import string to ensure that the text is clean or close to being clean.\n",
        "import string \n",
        "\n",
        "text_clean = \"\".join([i for i in text if i not in string.punctuation])\n",
        "text_clean"
      ],
      "execution_count": 235,
      "outputs": [
        {
          "output_type": "execute_result",
          "data": {
            "application/vnd.google.colaboratory.intrinsic+json": {
              "type": "string"
            },
            "text/plain": [
              "'Operative Report  Procedure Bilateral upper lid blepharopoasty CPT 15822 Anesthesia Lidocaine with l100000 epinephrine  This 65yearold female demonstrates conditions of excess and redundant eyelid skin with puffiness and has requested surgical correction  The patient was brought into the operating room and placed in the supine position on the operating table An intravenous line was started and sedation and sedation anesthesia was administered IV after preoperative PO sedation The patient was monitored for cardiac rate blood pressure and oxygen saturation continuously The excess and redundant skin of the upper lids producing redundancy and impairment of lateral vision was carefully measured and the incisions were marked for fusiform excision with a marking pen The surgical calipers were used to measure the supratarsal incisions so that the incision was symmetrical from the ciliary margin bilaterally The upper eyelid areas were bilaterally injected with 1 Lidocaine with 1100000 Epinephrine for anesthesia and vasoconstriction The plane of injection was superficial and external to the orbital septum of the upper and lower eyelids bilaterally The face was prepped and draped in the usual sterile manner After waiting a period of approximately ten minutes for adequate vasoconstriction the previously outlined excessive skin of the right upper eyelid was excised with blunt dissection Hemostasis was obtained with a bipolar cautery A thin strip of orbicularis oculi muscle was excised in order to expose the orbital septum on the right The defect in the orbital septum was identified and herniated orbital fat was exposed The abnormally protruding positions in the medial pocket were carefully excised and the stalk meticulously cauterized with the bipolar cautery unit A similar procedure was performed exposing herniated portion of the nasal pocket Great care was taken to obtain perfect hemostasis with this maneuver A similar procedure of removing skin and taking care of the herniated fat was performed on the left upper eyelid in the same fashion Careful hemostasis had been obtained on the upper lid areas The lateral aspects of the upper eyelid incisions were closed with a couple of interrupted 7 – 0 blue prolene sutures At the end of the operation the patientʼs vision and extraocular muscle movements were checked and found to be intact There was no diplopiano ptosis no ectropion Wounds were reexamined for hemostasis and no hematomas were noted Cooled saline compresses were placed over the upper and lower eyelid regions bilaterally The procedures were completed without complication and tolerated well  The patient left the operating room in satisfactory condition'"
            ]
          },
          "metadata": {
            "tags": []
          },
          "execution_count": 235
        }
      ]
    },
    {
      "cell_type": "code",
      "metadata": {
        "id": "IqAJT6yIQd1A"
      },
      "source": [
        "# Save our tokens in a list.\n",
        "corpus = []\n",
        "\n",
        "# Run through our string. Use nltk's word tokenize to tokenize our text \n",
        "tokens = word_tokenize(text_clean)"
      ],
      "execution_count": 236,
      "outputs": []
    },
    {
      "cell_type": "code",
      "metadata": {
        "id": "1VzqplorEOv3"
      },
      "source": [
        "# Declare initial stop words\n",
        "stop_words = stopwords.words('english')\n",
        "# Add additional stopwords\n",
        "added_stopwords = [\"The\", \"the\", \"This\", \"this\", \"An\", \"a\", \"A\", \"at\"]\n",
        "# Extend our stopwords list.\n",
        "stop_words.extend(added_stopwords)"
      ],
      "execution_count": 237,
      "outputs": []
    },
    {
      "cell_type": "code",
      "metadata": {
        "colab": {
          "base_uri": "https://localhost:8080/"
        },
        "id": "dqOG9KqWvqec",
        "outputId": "bb27c8be-c7cf-49a4-b391-c7b70aa2f6c0"
      },
      "source": [
        "text_lower = [t.lower() for t in tokens if (t not in stop_words)]\n",
        "text_lower"
      ],
      "execution_count": 238,
      "outputs": [
        {
          "output_type": "execute_result",
          "data": {
            "text/plain": [
              "['operative',\n",
              " 'report',\n",
              " 'procedure',\n",
              " 'bilateral',\n",
              " 'upper',\n",
              " 'lid',\n",
              " 'blepharopoasty',\n",
              " 'cpt',\n",
              " '15822',\n",
              " 'anesthesia',\n",
              " 'lidocaine',\n",
              " 'l100000',\n",
              " 'epinephrine',\n",
              " '65yearold',\n",
              " 'female',\n",
              " 'demonstrates',\n",
              " 'conditions',\n",
              " 'excess',\n",
              " 'redundant',\n",
              " 'eyelid',\n",
              " 'skin',\n",
              " 'puffiness',\n",
              " 'requested',\n",
              " 'surgical',\n",
              " 'correction',\n",
              " 'patient',\n",
              " 'brought',\n",
              " 'operating',\n",
              " 'room',\n",
              " 'placed',\n",
              " 'supine',\n",
              " 'position',\n",
              " 'operating',\n",
              " 'table',\n",
              " 'intravenous',\n",
              " 'line',\n",
              " 'started',\n",
              " 'sedation',\n",
              " 'sedation',\n",
              " 'anesthesia',\n",
              " 'administered',\n",
              " 'iv',\n",
              " 'preoperative',\n",
              " 'po',\n",
              " 'sedation',\n",
              " 'patient',\n",
              " 'monitored',\n",
              " 'cardiac',\n",
              " 'rate',\n",
              " 'blood',\n",
              " 'pressure',\n",
              " 'oxygen',\n",
              " 'saturation',\n",
              " 'continuously',\n",
              " 'excess',\n",
              " 'redundant',\n",
              " 'skin',\n",
              " 'upper',\n",
              " 'lids',\n",
              " 'producing',\n",
              " 'redundancy',\n",
              " 'impairment',\n",
              " 'lateral',\n",
              " 'vision',\n",
              " 'carefully',\n",
              " 'measured',\n",
              " 'incisions',\n",
              " 'marked',\n",
              " 'fusiform',\n",
              " 'excision',\n",
              " 'marking',\n",
              " 'pen',\n",
              " 'surgical',\n",
              " 'calipers',\n",
              " 'used',\n",
              " 'measure',\n",
              " 'supratarsal',\n",
              " 'incisions',\n",
              " 'incision',\n",
              " 'symmetrical',\n",
              " 'ciliary',\n",
              " 'margin',\n",
              " 'bilaterally',\n",
              " 'upper',\n",
              " 'eyelid',\n",
              " 'areas',\n",
              " 'bilaterally',\n",
              " 'injected',\n",
              " '1',\n",
              " 'lidocaine',\n",
              " '1100000',\n",
              " 'epinephrine',\n",
              " 'anesthesia',\n",
              " 'vasoconstriction',\n",
              " 'plane',\n",
              " 'injection',\n",
              " 'superficial',\n",
              " 'external',\n",
              " 'orbital',\n",
              " 'septum',\n",
              " 'upper',\n",
              " 'lower',\n",
              " 'eyelids',\n",
              " 'bilaterally',\n",
              " 'face',\n",
              " 'prepped',\n",
              " 'draped',\n",
              " 'usual',\n",
              " 'sterile',\n",
              " 'manner',\n",
              " 'after',\n",
              " 'waiting',\n",
              " 'period',\n",
              " 'approximately',\n",
              " 'ten',\n",
              " 'minutes',\n",
              " 'adequate',\n",
              " 'vasoconstriction',\n",
              " 'previously',\n",
              " 'outlined',\n",
              " 'excessive',\n",
              " 'skin',\n",
              " 'right',\n",
              " 'upper',\n",
              " 'eyelid',\n",
              " 'excised',\n",
              " 'blunt',\n",
              " 'dissection',\n",
              " 'hemostasis',\n",
              " 'obtained',\n",
              " 'bipolar',\n",
              " 'cautery',\n",
              " 'thin',\n",
              " 'strip',\n",
              " 'orbicularis',\n",
              " 'oculi',\n",
              " 'muscle',\n",
              " 'excised',\n",
              " 'order',\n",
              " 'expose',\n",
              " 'orbital',\n",
              " 'septum',\n",
              " 'right',\n",
              " 'defect',\n",
              " 'orbital',\n",
              " 'septum',\n",
              " 'identified',\n",
              " 'herniated',\n",
              " 'orbital',\n",
              " 'fat',\n",
              " 'exposed',\n",
              " 'abnormally',\n",
              " 'protruding',\n",
              " 'positions',\n",
              " 'medial',\n",
              " 'pocket',\n",
              " 'carefully',\n",
              " 'excised',\n",
              " 'stalk',\n",
              " 'meticulously',\n",
              " 'cauterized',\n",
              " 'bipolar',\n",
              " 'cautery',\n",
              " 'unit',\n",
              " 'similar',\n",
              " 'procedure',\n",
              " 'performed',\n",
              " 'exposing',\n",
              " 'herniated',\n",
              " 'portion',\n",
              " 'nasal',\n",
              " 'pocket',\n",
              " 'great',\n",
              " 'care',\n",
              " 'taken',\n",
              " 'obtain',\n",
              " 'perfect',\n",
              " 'hemostasis',\n",
              " 'maneuver',\n",
              " 'similar',\n",
              " 'procedure',\n",
              " 'removing',\n",
              " 'skin',\n",
              " 'taking',\n",
              " 'care',\n",
              " 'herniated',\n",
              " 'fat',\n",
              " 'performed',\n",
              " 'left',\n",
              " 'upper',\n",
              " 'eyelid',\n",
              " 'fashion',\n",
              " 'careful',\n",
              " 'hemostasis',\n",
              " 'obtained',\n",
              " 'upper',\n",
              " 'lid',\n",
              " 'areas',\n",
              " 'lateral',\n",
              " 'aspects',\n",
              " 'upper',\n",
              " 'eyelid',\n",
              " 'incisions',\n",
              " 'closed',\n",
              " 'couple',\n",
              " 'interrupted',\n",
              " '7',\n",
              " '–',\n",
              " '0',\n",
              " 'blue',\n",
              " 'prolene',\n",
              " 'sutures',\n",
              " 'at',\n",
              " 'end',\n",
              " 'operation',\n",
              " 'patientʼs',\n",
              " 'vision',\n",
              " 'extraocular',\n",
              " 'muscle',\n",
              " 'movements',\n",
              " 'checked',\n",
              " 'found',\n",
              " 'intact',\n",
              " 'there',\n",
              " 'diplopiano',\n",
              " 'ptosis',\n",
              " 'ectropion',\n",
              " 'wounds',\n",
              " 'reexamined',\n",
              " 'hemostasis',\n",
              " 'hematomas',\n",
              " 'noted',\n",
              " 'cooled',\n",
              " 'saline',\n",
              " 'compresses',\n",
              " 'placed',\n",
              " 'upper',\n",
              " 'lower',\n",
              " 'eyelid',\n",
              " 'regions',\n",
              " 'bilaterally',\n",
              " 'procedures',\n",
              " 'completed',\n",
              " 'without',\n",
              " 'complication',\n",
              " 'tolerated',\n",
              " 'well',\n",
              " 'patient',\n",
              " 'left',\n",
              " 'operating',\n",
              " 'room',\n",
              " 'satisfactory',\n",
              " 'condition']"
            ]
          },
          "metadata": {
            "tags": []
          },
          "execution_count": 238
        }
      ]
    },
    {
      "cell_type": "code",
      "metadata": {
        "colab": {
          "base_uri": "https://localhost:8080/"
        },
        "id": "7aBGI-uARfXT",
        "outputId": "c4254e22-36df-40f9-94d6-f5d3b126d59a"
      },
      "source": [
        "# Just to see the difference before filtering and after.\n",
        "print(\"Unfiltered: \", text_lower)\n",
        "print(\"Stopwords: \", stopwords.words('english'))"
      ],
      "execution_count": 239,
      "outputs": [
        {
          "output_type": "stream",
          "text": [
            "Unfiltered:  ['operative', 'report', 'procedure', 'bilateral', 'upper', 'lid', 'blepharopoasty', 'cpt', '15822', 'anesthesia', 'lidocaine', 'l100000', 'epinephrine', '65yearold', 'female', 'demonstrates', 'conditions', 'excess', 'redundant', 'eyelid', 'skin', 'puffiness', 'requested', 'surgical', 'correction', 'patient', 'brought', 'operating', 'room', 'placed', 'supine', 'position', 'operating', 'table', 'intravenous', 'line', 'started', 'sedation', 'sedation', 'anesthesia', 'administered', 'iv', 'preoperative', 'po', 'sedation', 'patient', 'monitored', 'cardiac', 'rate', 'blood', 'pressure', 'oxygen', 'saturation', 'continuously', 'excess', 'redundant', 'skin', 'upper', 'lids', 'producing', 'redundancy', 'impairment', 'lateral', 'vision', 'carefully', 'measured', 'incisions', 'marked', 'fusiform', 'excision', 'marking', 'pen', 'surgical', 'calipers', 'used', 'measure', 'supratarsal', 'incisions', 'incision', 'symmetrical', 'ciliary', 'margin', 'bilaterally', 'upper', 'eyelid', 'areas', 'bilaterally', 'injected', '1', 'lidocaine', '1100000', 'epinephrine', 'anesthesia', 'vasoconstriction', 'plane', 'injection', 'superficial', 'external', 'orbital', 'septum', 'upper', 'lower', 'eyelids', 'bilaterally', 'face', 'prepped', 'draped', 'usual', 'sterile', 'manner', 'after', 'waiting', 'period', 'approximately', 'ten', 'minutes', 'adequate', 'vasoconstriction', 'previously', 'outlined', 'excessive', 'skin', 'right', 'upper', 'eyelid', 'excised', 'blunt', 'dissection', 'hemostasis', 'obtained', 'bipolar', 'cautery', 'thin', 'strip', 'orbicularis', 'oculi', 'muscle', 'excised', 'order', 'expose', 'orbital', 'septum', 'right', 'defect', 'orbital', 'septum', 'identified', 'herniated', 'orbital', 'fat', 'exposed', 'abnormally', 'protruding', 'positions', 'medial', 'pocket', 'carefully', 'excised', 'stalk', 'meticulously', 'cauterized', 'bipolar', 'cautery', 'unit', 'similar', 'procedure', 'performed', 'exposing', 'herniated', 'portion', 'nasal', 'pocket', 'great', 'care', 'taken', 'obtain', 'perfect', 'hemostasis', 'maneuver', 'similar', 'procedure', 'removing', 'skin', 'taking', 'care', 'herniated', 'fat', 'performed', 'left', 'upper', 'eyelid', 'fashion', 'careful', 'hemostasis', 'obtained', 'upper', 'lid', 'areas', 'lateral', 'aspects', 'upper', 'eyelid', 'incisions', 'closed', 'couple', 'interrupted', '7', '–', '0', 'blue', 'prolene', 'sutures', 'at', 'end', 'operation', 'patientʼs', 'vision', 'extraocular', 'muscle', 'movements', 'checked', 'found', 'intact', 'there', 'diplopiano', 'ptosis', 'ectropion', 'wounds', 'reexamined', 'hemostasis', 'hematomas', 'noted', 'cooled', 'saline', 'compresses', 'placed', 'upper', 'lower', 'eyelid', 'regions', 'bilaterally', 'procedures', 'completed', 'without', 'complication', 'tolerated', 'well', 'patient', 'left', 'operating', 'room', 'satisfactory', 'condition']\n",
            "Stopwords:  ['i', 'me', 'my', 'myself', 'we', 'our', 'ours', 'ourselves', 'you', \"you're\", \"you've\", \"you'll\", \"you'd\", 'your', 'yours', 'yourself', 'yourselves', 'he', 'him', 'his', 'himself', 'she', \"she's\", 'her', 'hers', 'herself', 'it', \"it's\", 'its', 'itself', 'they', 'them', 'their', 'theirs', 'themselves', 'what', 'which', 'who', 'whom', 'this', 'that', \"that'll\", 'these', 'those', 'am', 'is', 'are', 'was', 'were', 'be', 'been', 'being', 'have', 'has', 'had', 'having', 'do', 'does', 'did', 'doing', 'a', 'an', 'the', 'and', 'but', 'if', 'or', 'because', 'as', 'until', 'while', 'of', 'at', 'by', 'for', 'with', 'about', 'against', 'between', 'into', 'through', 'during', 'before', 'after', 'above', 'below', 'to', 'from', 'up', 'down', 'in', 'out', 'on', 'off', 'over', 'under', 'again', 'further', 'then', 'once', 'here', 'there', 'when', 'where', 'why', 'how', 'all', 'any', 'both', 'each', 'few', 'more', 'most', 'other', 'some', 'such', 'no', 'nor', 'not', 'only', 'own', 'same', 'so', 'than', 'too', 'very', 's', 't', 'can', 'will', 'just', 'don', \"don't\", 'should', \"should've\", 'now', 'd', 'll', 'm', 'o', 're', 've', 'y', 'ain', 'aren', \"aren't\", 'couldn', \"couldn't\", 'didn', \"didn't\", 'doesn', \"doesn't\", 'hadn', \"hadn't\", 'hasn', \"hasn't\", 'haven', \"haven't\", 'isn', \"isn't\", 'ma', 'mightn', \"mightn't\", 'mustn', \"mustn't\", 'needn', \"needn't\", 'shan', \"shan't\", 'shouldn', \"shouldn't\", 'wasn', \"wasn't\", 'weren', \"weren't\", 'won', \"won't\", 'wouldn', \"wouldn't\"]\n"
          ],
          "name": "stdout"
        }
      ]
    },
    {
      "cell_type": "code",
      "metadata": {
        "colab": {
          "base_uri": "https://localhost:8080/"
        },
        "id": "p2FZqLDVE5NL",
        "outputId": "c5897ac2-62fd-4de0-888d-70435b19905b"
      },
      "source": [
        "# After filtering. Remove stopwords and lowered the case.\n",
        "cleaned = [text for text in text_lower if text not in stop_words]\n",
        "print(\"Filtered: \", cleaned)"
      ],
      "execution_count": 240,
      "outputs": [
        {
          "output_type": "stream",
          "text": [
            "Filtered:  ['operative', 'report', 'procedure', 'bilateral', 'upper', 'lid', 'blepharopoasty', 'cpt', '15822', 'anesthesia', 'lidocaine', 'l100000', 'epinephrine', '65yearold', 'female', 'demonstrates', 'conditions', 'excess', 'redundant', 'eyelid', 'skin', 'puffiness', 'requested', 'surgical', 'correction', 'patient', 'brought', 'operating', 'room', 'placed', 'supine', 'position', 'operating', 'table', 'intravenous', 'line', 'started', 'sedation', 'sedation', 'anesthesia', 'administered', 'iv', 'preoperative', 'po', 'sedation', 'patient', 'monitored', 'cardiac', 'rate', 'blood', 'pressure', 'oxygen', 'saturation', 'continuously', 'excess', 'redundant', 'skin', 'upper', 'lids', 'producing', 'redundancy', 'impairment', 'lateral', 'vision', 'carefully', 'measured', 'incisions', 'marked', 'fusiform', 'excision', 'marking', 'pen', 'surgical', 'calipers', 'used', 'measure', 'supratarsal', 'incisions', 'incision', 'symmetrical', 'ciliary', 'margin', 'bilaterally', 'upper', 'eyelid', 'areas', 'bilaterally', 'injected', '1', 'lidocaine', '1100000', 'epinephrine', 'anesthesia', 'vasoconstriction', 'plane', 'injection', 'superficial', 'external', 'orbital', 'septum', 'upper', 'lower', 'eyelids', 'bilaterally', 'face', 'prepped', 'draped', 'usual', 'sterile', 'manner', 'waiting', 'period', 'approximately', 'ten', 'minutes', 'adequate', 'vasoconstriction', 'previously', 'outlined', 'excessive', 'skin', 'right', 'upper', 'eyelid', 'excised', 'blunt', 'dissection', 'hemostasis', 'obtained', 'bipolar', 'cautery', 'thin', 'strip', 'orbicularis', 'oculi', 'muscle', 'excised', 'order', 'expose', 'orbital', 'septum', 'right', 'defect', 'orbital', 'septum', 'identified', 'herniated', 'orbital', 'fat', 'exposed', 'abnormally', 'protruding', 'positions', 'medial', 'pocket', 'carefully', 'excised', 'stalk', 'meticulously', 'cauterized', 'bipolar', 'cautery', 'unit', 'similar', 'procedure', 'performed', 'exposing', 'herniated', 'portion', 'nasal', 'pocket', 'great', 'care', 'taken', 'obtain', 'perfect', 'hemostasis', 'maneuver', 'similar', 'procedure', 'removing', 'skin', 'taking', 'care', 'herniated', 'fat', 'performed', 'left', 'upper', 'eyelid', 'fashion', 'careful', 'hemostasis', 'obtained', 'upper', 'lid', 'areas', 'lateral', 'aspects', 'upper', 'eyelid', 'incisions', 'closed', 'couple', 'interrupted', '7', '–', '0', 'blue', 'prolene', 'sutures', 'end', 'operation', 'patientʼs', 'vision', 'extraocular', 'muscle', 'movements', 'checked', 'found', 'intact', 'diplopiano', 'ptosis', 'ectropion', 'wounds', 'reexamined', 'hemostasis', 'hematomas', 'noted', 'cooled', 'saline', 'compresses', 'placed', 'upper', 'lower', 'eyelid', 'regions', 'bilaterally', 'procedures', 'completed', 'without', 'complication', 'tolerated', 'well', 'patient', 'left', 'operating', 'room', 'satisfactory', 'condition']\n"
          ],
          "name": "stdout"
        }
      ]
    },
    {
      "cell_type": "markdown",
      "metadata": {
        "id": "UMNkzwO0lrCQ"
      },
      "source": [
        "So now we have filtered the text to the text we need while preserving some in other variables for different use cases. The next steps are optional until we get to the word cloud."
      ]
    },
    {
      "cell_type": "markdown",
      "metadata": {
        "id": "o322hKswlkVB"
      },
      "source": [
        "# **Stemming (Optional)**"
      ]
    },
    {
      "cell_type": "code",
      "metadata": {
        "id": "8-EsmHwmll19"
      },
      "source": [
        "from nltk.stem import PorterStemmer "
      ],
      "execution_count": 241,
      "outputs": []
    },
    {
      "cell_type": "code",
      "metadata": {
        "colab": {
          "base_uri": "https://localhost:8080/"
        },
        "id": "N-obZfdrm0_I",
        "outputId": "9fc76140-244f-4e00-a399-a49828b6e724"
      },
      "source": [
        "# Initialize the PorterStemmer instance\n",
        "stemmer = PorterStemmer() \n",
        "stemmed = [stemmer.stem(clean) for clean in cleaned]\n",
        "stemmed"
      ],
      "execution_count": 242,
      "outputs": [
        {
          "output_type": "execute_result",
          "data": {
            "text/plain": [
              "['oper',\n",
              " 'report',\n",
              " 'procedur',\n",
              " 'bilater',\n",
              " 'upper',\n",
              " 'lid',\n",
              " 'blepharopoasti',\n",
              " 'cpt',\n",
              " '15822',\n",
              " 'anesthesia',\n",
              " 'lidocain',\n",
              " 'l100000',\n",
              " 'epinephrin',\n",
              " '65yearold',\n",
              " 'femal',\n",
              " 'demonstr',\n",
              " 'condit',\n",
              " 'excess',\n",
              " 'redund',\n",
              " 'eyelid',\n",
              " 'skin',\n",
              " 'puffi',\n",
              " 'request',\n",
              " 'surgic',\n",
              " 'correct',\n",
              " 'patient',\n",
              " 'brought',\n",
              " 'oper',\n",
              " 'room',\n",
              " 'place',\n",
              " 'supin',\n",
              " 'posit',\n",
              " 'oper',\n",
              " 'tabl',\n",
              " 'intraven',\n",
              " 'line',\n",
              " 'start',\n",
              " 'sedat',\n",
              " 'sedat',\n",
              " 'anesthesia',\n",
              " 'administ',\n",
              " 'iv',\n",
              " 'preoper',\n",
              " 'po',\n",
              " 'sedat',\n",
              " 'patient',\n",
              " 'monitor',\n",
              " 'cardiac',\n",
              " 'rate',\n",
              " 'blood',\n",
              " 'pressur',\n",
              " 'oxygen',\n",
              " 'satur',\n",
              " 'continu',\n",
              " 'excess',\n",
              " 'redund',\n",
              " 'skin',\n",
              " 'upper',\n",
              " 'lid',\n",
              " 'produc',\n",
              " 'redund',\n",
              " 'impair',\n",
              " 'later',\n",
              " 'vision',\n",
              " 'care',\n",
              " 'measur',\n",
              " 'incis',\n",
              " 'mark',\n",
              " 'fusiform',\n",
              " 'excis',\n",
              " 'mark',\n",
              " 'pen',\n",
              " 'surgic',\n",
              " 'calip',\n",
              " 'use',\n",
              " 'measur',\n",
              " 'supratars',\n",
              " 'incis',\n",
              " 'incis',\n",
              " 'symmetr',\n",
              " 'ciliari',\n",
              " 'margin',\n",
              " 'bilater',\n",
              " 'upper',\n",
              " 'eyelid',\n",
              " 'area',\n",
              " 'bilater',\n",
              " 'inject',\n",
              " '1',\n",
              " 'lidocain',\n",
              " '1100000',\n",
              " 'epinephrin',\n",
              " 'anesthesia',\n",
              " 'vasoconstrict',\n",
              " 'plane',\n",
              " 'inject',\n",
              " 'superfici',\n",
              " 'extern',\n",
              " 'orbit',\n",
              " 'septum',\n",
              " 'upper',\n",
              " 'lower',\n",
              " 'eyelid',\n",
              " 'bilater',\n",
              " 'face',\n",
              " 'prep',\n",
              " 'drape',\n",
              " 'usual',\n",
              " 'steril',\n",
              " 'manner',\n",
              " 'wait',\n",
              " 'period',\n",
              " 'approxim',\n",
              " 'ten',\n",
              " 'minut',\n",
              " 'adequ',\n",
              " 'vasoconstrict',\n",
              " 'previous',\n",
              " 'outlin',\n",
              " 'excess',\n",
              " 'skin',\n",
              " 'right',\n",
              " 'upper',\n",
              " 'eyelid',\n",
              " 'excis',\n",
              " 'blunt',\n",
              " 'dissect',\n",
              " 'hemostasi',\n",
              " 'obtain',\n",
              " 'bipolar',\n",
              " 'cauteri',\n",
              " 'thin',\n",
              " 'strip',\n",
              " 'orbiculari',\n",
              " 'oculi',\n",
              " 'muscl',\n",
              " 'excis',\n",
              " 'order',\n",
              " 'expos',\n",
              " 'orbit',\n",
              " 'septum',\n",
              " 'right',\n",
              " 'defect',\n",
              " 'orbit',\n",
              " 'septum',\n",
              " 'identifi',\n",
              " 'herniat',\n",
              " 'orbit',\n",
              " 'fat',\n",
              " 'expos',\n",
              " 'abnorm',\n",
              " 'protrud',\n",
              " 'posit',\n",
              " 'medial',\n",
              " 'pocket',\n",
              " 'care',\n",
              " 'excis',\n",
              " 'stalk',\n",
              " 'meticul',\n",
              " 'cauter',\n",
              " 'bipolar',\n",
              " 'cauteri',\n",
              " 'unit',\n",
              " 'similar',\n",
              " 'procedur',\n",
              " 'perform',\n",
              " 'expos',\n",
              " 'herniat',\n",
              " 'portion',\n",
              " 'nasal',\n",
              " 'pocket',\n",
              " 'great',\n",
              " 'care',\n",
              " 'taken',\n",
              " 'obtain',\n",
              " 'perfect',\n",
              " 'hemostasi',\n",
              " 'maneuv',\n",
              " 'similar',\n",
              " 'procedur',\n",
              " 'remov',\n",
              " 'skin',\n",
              " 'take',\n",
              " 'care',\n",
              " 'herniat',\n",
              " 'fat',\n",
              " 'perform',\n",
              " 'left',\n",
              " 'upper',\n",
              " 'eyelid',\n",
              " 'fashion',\n",
              " 'care',\n",
              " 'hemostasi',\n",
              " 'obtain',\n",
              " 'upper',\n",
              " 'lid',\n",
              " 'area',\n",
              " 'later',\n",
              " 'aspect',\n",
              " 'upper',\n",
              " 'eyelid',\n",
              " 'incis',\n",
              " 'close',\n",
              " 'coupl',\n",
              " 'interrupt',\n",
              " '7',\n",
              " '–',\n",
              " '0',\n",
              " 'blue',\n",
              " 'prolen',\n",
              " 'sutur',\n",
              " 'end',\n",
              " 'oper',\n",
              " 'patientʼ',\n",
              " 'vision',\n",
              " 'extraocular',\n",
              " 'muscl',\n",
              " 'movement',\n",
              " 'check',\n",
              " 'found',\n",
              " 'intact',\n",
              " 'diplopiano',\n",
              " 'ptosi',\n",
              " 'ectropion',\n",
              " 'wound',\n",
              " 'reexamin',\n",
              " 'hemostasi',\n",
              " 'hematoma',\n",
              " 'note',\n",
              " 'cool',\n",
              " 'salin',\n",
              " 'compress',\n",
              " 'place',\n",
              " 'upper',\n",
              " 'lower',\n",
              " 'eyelid',\n",
              " 'region',\n",
              " 'bilater',\n",
              " 'procedur',\n",
              " 'complet',\n",
              " 'without',\n",
              " 'complic',\n",
              " 'toler',\n",
              " 'well',\n",
              " 'patient',\n",
              " 'left',\n",
              " 'oper',\n",
              " 'room',\n",
              " 'satisfactori',\n",
              " 'condit']"
            ]
          },
          "metadata": {
            "tags": []
          },
          "execution_count": 242
        }
      ]
    },
    {
      "cell_type": "markdown",
      "metadata": {
        "id": "6BoHNamXoCdZ"
      },
      "source": [
        "Wouldn't recommend stemming for this since it's also affecting the nouns. Sometimes returning a result that is not a word."
      ]
    },
    {
      "cell_type": "markdown",
      "metadata": {
        "id": "5LhTvZbklgG5"
      },
      "source": [
        "# **Lemmatization (Optional)**"
      ]
    },
    {
      "cell_type": "markdown",
      "metadata": {
        "id": "xWg5ThXkIGDn"
      },
      "source": [
        "`The difference between this and stemming is that lemmatization returns a valid word."
      ]
    },
    {
      "cell_type": "code",
      "metadata": {
        "id": "2mvpsrBPVcwu"
      },
      "source": [
        "from nltk.stem import WordNetLemmatizer\n",
        "from nltk.corpus import wordnet\n",
        "\n",
        "nltk.download('wordnet')"
      ],
      "execution_count": null,
      "outputs": []
    },
    {
      "cell_type": "code",
      "metadata": {
        "colab": {
          "base_uri": "https://localhost:8080/"
        },
        "id": "LegTTmuloS4k",
        "outputId": "17d2d1b8-0700-4ad0-98c0-de79e822364a"
      },
      "source": [
        "# Initialize the Lemmatizer instance\n",
        "lemmatizer = WordNetLemmatizer() \n",
        "lemmatized = [lemmatizer.lemmatize(clean) for clean in cleaned]\n",
        "lemmatized"
      ],
      "execution_count": 244,
      "outputs": [
        {
          "output_type": "execute_result",
          "data": {
            "text/plain": [
              "['operative',\n",
              " 'report',\n",
              " 'procedure',\n",
              " 'bilateral',\n",
              " 'upper',\n",
              " 'lid',\n",
              " 'blepharopoasty',\n",
              " 'cpt',\n",
              " '15822',\n",
              " 'anesthesia',\n",
              " 'lidocaine',\n",
              " 'l100000',\n",
              " 'epinephrine',\n",
              " '65yearold',\n",
              " 'female',\n",
              " 'demonstrates',\n",
              " 'condition',\n",
              " 'excess',\n",
              " 'redundant',\n",
              " 'eyelid',\n",
              " 'skin',\n",
              " 'puffiness',\n",
              " 'requested',\n",
              " 'surgical',\n",
              " 'correction',\n",
              " 'patient',\n",
              " 'brought',\n",
              " 'operating',\n",
              " 'room',\n",
              " 'placed',\n",
              " 'supine',\n",
              " 'position',\n",
              " 'operating',\n",
              " 'table',\n",
              " 'intravenous',\n",
              " 'line',\n",
              " 'started',\n",
              " 'sedation',\n",
              " 'sedation',\n",
              " 'anesthesia',\n",
              " 'administered',\n",
              " 'iv',\n",
              " 'preoperative',\n",
              " 'po',\n",
              " 'sedation',\n",
              " 'patient',\n",
              " 'monitored',\n",
              " 'cardiac',\n",
              " 'rate',\n",
              " 'blood',\n",
              " 'pressure',\n",
              " 'oxygen',\n",
              " 'saturation',\n",
              " 'continuously',\n",
              " 'excess',\n",
              " 'redundant',\n",
              " 'skin',\n",
              " 'upper',\n",
              " 'lid',\n",
              " 'producing',\n",
              " 'redundancy',\n",
              " 'impairment',\n",
              " 'lateral',\n",
              " 'vision',\n",
              " 'carefully',\n",
              " 'measured',\n",
              " 'incision',\n",
              " 'marked',\n",
              " 'fusiform',\n",
              " 'excision',\n",
              " 'marking',\n",
              " 'pen',\n",
              " 'surgical',\n",
              " 'caliper',\n",
              " 'used',\n",
              " 'measure',\n",
              " 'supratarsal',\n",
              " 'incision',\n",
              " 'incision',\n",
              " 'symmetrical',\n",
              " 'ciliary',\n",
              " 'margin',\n",
              " 'bilaterally',\n",
              " 'upper',\n",
              " 'eyelid',\n",
              " 'area',\n",
              " 'bilaterally',\n",
              " 'injected',\n",
              " '1',\n",
              " 'lidocaine',\n",
              " '1100000',\n",
              " 'epinephrine',\n",
              " 'anesthesia',\n",
              " 'vasoconstriction',\n",
              " 'plane',\n",
              " 'injection',\n",
              " 'superficial',\n",
              " 'external',\n",
              " 'orbital',\n",
              " 'septum',\n",
              " 'upper',\n",
              " 'lower',\n",
              " 'eyelid',\n",
              " 'bilaterally',\n",
              " 'face',\n",
              " 'prepped',\n",
              " 'draped',\n",
              " 'usual',\n",
              " 'sterile',\n",
              " 'manner',\n",
              " 'waiting',\n",
              " 'period',\n",
              " 'approximately',\n",
              " 'ten',\n",
              " 'minute',\n",
              " 'adequate',\n",
              " 'vasoconstriction',\n",
              " 'previously',\n",
              " 'outlined',\n",
              " 'excessive',\n",
              " 'skin',\n",
              " 'right',\n",
              " 'upper',\n",
              " 'eyelid',\n",
              " 'excised',\n",
              " 'blunt',\n",
              " 'dissection',\n",
              " 'hemostasis',\n",
              " 'obtained',\n",
              " 'bipolar',\n",
              " 'cautery',\n",
              " 'thin',\n",
              " 'strip',\n",
              " 'orbicularis',\n",
              " 'oculus',\n",
              " 'muscle',\n",
              " 'excised',\n",
              " 'order',\n",
              " 'expose',\n",
              " 'orbital',\n",
              " 'septum',\n",
              " 'right',\n",
              " 'defect',\n",
              " 'orbital',\n",
              " 'septum',\n",
              " 'identified',\n",
              " 'herniated',\n",
              " 'orbital',\n",
              " 'fat',\n",
              " 'exposed',\n",
              " 'abnormally',\n",
              " 'protruding',\n",
              " 'position',\n",
              " 'medial',\n",
              " 'pocket',\n",
              " 'carefully',\n",
              " 'excised',\n",
              " 'stalk',\n",
              " 'meticulously',\n",
              " 'cauterized',\n",
              " 'bipolar',\n",
              " 'cautery',\n",
              " 'unit',\n",
              " 'similar',\n",
              " 'procedure',\n",
              " 'performed',\n",
              " 'exposing',\n",
              " 'herniated',\n",
              " 'portion',\n",
              " 'nasal',\n",
              " 'pocket',\n",
              " 'great',\n",
              " 'care',\n",
              " 'taken',\n",
              " 'obtain',\n",
              " 'perfect',\n",
              " 'hemostasis',\n",
              " 'maneuver',\n",
              " 'similar',\n",
              " 'procedure',\n",
              " 'removing',\n",
              " 'skin',\n",
              " 'taking',\n",
              " 'care',\n",
              " 'herniated',\n",
              " 'fat',\n",
              " 'performed',\n",
              " 'left',\n",
              " 'upper',\n",
              " 'eyelid',\n",
              " 'fashion',\n",
              " 'careful',\n",
              " 'hemostasis',\n",
              " 'obtained',\n",
              " 'upper',\n",
              " 'lid',\n",
              " 'area',\n",
              " 'lateral',\n",
              " 'aspect',\n",
              " 'upper',\n",
              " 'eyelid',\n",
              " 'incision',\n",
              " 'closed',\n",
              " 'couple',\n",
              " 'interrupted',\n",
              " '7',\n",
              " '–',\n",
              " '0',\n",
              " 'blue',\n",
              " 'prolene',\n",
              " 'suture',\n",
              " 'end',\n",
              " 'operation',\n",
              " 'patientʼs',\n",
              " 'vision',\n",
              " 'extraocular',\n",
              " 'muscle',\n",
              " 'movement',\n",
              " 'checked',\n",
              " 'found',\n",
              " 'intact',\n",
              " 'diplopiano',\n",
              " 'ptosis',\n",
              " 'ectropion',\n",
              " 'wound',\n",
              " 'reexamined',\n",
              " 'hemostasis',\n",
              " 'hematoma',\n",
              " 'noted',\n",
              " 'cooled',\n",
              " 'saline',\n",
              " 'compress',\n",
              " 'placed',\n",
              " 'upper',\n",
              " 'lower',\n",
              " 'eyelid',\n",
              " 'region',\n",
              " 'bilaterally',\n",
              " 'procedure',\n",
              " 'completed',\n",
              " 'without',\n",
              " 'complication',\n",
              " 'tolerated',\n",
              " 'well',\n",
              " 'patient',\n",
              " 'left',\n",
              " 'operating',\n",
              " 'room',\n",
              " 'satisfactory',\n",
              " 'condition']"
            ]
          },
          "metadata": {
            "tags": []
          },
          "execution_count": 244
        }
      ]
    },
    {
      "cell_type": "markdown",
      "metadata": {
        "id": "tnE0BLU4vFce"
      },
      "source": [
        "Relatively better.\n",
        "\n",
        "Note: Would love to have gone further and create rules to define a processing rule for specific terms like 7-0 or l:100,000 through [Medspacy](https://github.com/medspacy/medspacy) but due to time constraints. Didn't reach that part.\n"
      ]
    },
    {
      "cell_type": "markdown",
      "metadata": {
        "id": "io3eRpjWAKDl"
      },
      "source": [
        "# **Word Cloud**"
      ]
    },
    {
      "cell_type": "markdown",
      "metadata": {
        "id": "xzSq0BgVEPvr"
      },
      "source": [
        "Supershort EDA. A word cloud is a textual data visualization which allows anyone to see in a single glance the words which have the highest frequency within a given body of text."
      ]
    },
    {
      "cell_type": "code",
      "metadata": {
        "colab": {
          "base_uri": "https://localhost:8080/",
          "height": 466
        },
        "id": "ijDM_8lE9LX1",
        "outputId": "91ed7cba-f409-41b8-955e-56076e8ea2bb"
      },
      "source": [
        "# Generate word cloud\n",
        "from PIL import Image\n",
        "from wordcloud import WordCloud, STOPWORDS, ImageColorGenerator\n",
        "import matplotlib.pyplot as plt\n",
        "import numpy as np\n",
        "%matplotlib inline\n",
        "\n",
        "# convert list to string. \n",
        "string = ' '.join([str(item) for item in text_lower])\n",
        "\n",
        "# create mask for our wordcloud.\n",
        "mask = np.array(Image.open('eye.jpg'))\n",
        "\n",
        "# For this wordcloud, we grab max of top 100 words.\n",
        "wordcloud = WordCloud(    \n",
        "                          mask=mask,\n",
        "                          background_color='white',\n",
        "                          stopwords=stop_words,\n",
        "                          max_words=100,\n",
        "                          max_font_size=50, \n",
        "                          random_state=42\n",
        "                         ).generate(str(string))\n",
        "\n",
        "fig = plt.figure(figsize=(15,8))\n",
        "plt.imshow(wordcloud)\n",
        "plt.axis('off')\n",
        "plt.show()\n"
      ],
      "execution_count": 245,
      "outputs": [
        {
          "output_type": "display_data",
          "data": {
            "image/png": "[encoded data removed]",
            "text/plain": [
              "<Figure size 1080x576 with 1 Axes>"
            ]
          },
          "metadata": {
            "tags": [],
            "needs_background": "light"
          }
        }
      ]
    },
    {
      "cell_type": "markdown",
      "metadata": {
        "id": "da6loiiJA3pO"
      },
      "source": [
        "The bigger the text, the bigger the frequency in the corpus. Seems like it identified hemostasis for bilateral upper eyelid."
      ]
    },
    {
      "cell_type": "markdown",
      "metadata": {
        "id": "1FAtHowo7jV9"
      },
      "source": [
        "# **Part of Speech Tagging (NLTK)**\n"
      ]
    },
    {
      "cell_type": "markdown",
      "metadata": {
        "id": "Uef3MX10KPvJ"
      },
      "source": [
        "Part of Speech is the classification of words based on their role in the sentence. The major POS tags are Nouns, Verbs, Adjectives, Adverbs. This category provides more details about the word and its meaning in the context."
      ]
    },
    {
      "cell_type": "code",
      "metadata": {
        "id": "-j6af-9Noskk"
      },
      "source": [
        "# download our tagger for POS.\n",
        "# Uses the penn treebank tagset\n",
        "# https://www.sketchengine.eu/penn-treebank-tagset/\n",
        "nltk.download('averaged_perceptron_tagger')"
      ],
      "execution_count": null,
      "outputs": []
    },
    {
      "cell_type": "markdown",
      "metadata": {
        "id": "OoUuZ5aIPAL7"
      },
      "source": [
        "NLTK uses the average perceptron tagger by default. Something to consider is to experiment with other taggers such as Stanford or Maxent. Reason being is that NLTK biased to treating some adjectives as nouns."
      ]
    },
    {
      "cell_type": "code",
      "metadata": {
        "colab": {
          "base_uri": "https://localhost:8080/"
        },
        "id": "9WtVL0oQ8Igk",
        "outputId": "52bbe08d-686f-410d-ec20-0acdd7d3ec24"
      },
      "source": [
        "# Here we use tokens to be able to display the prepositions and tag\n",
        "# each word in the original corpus.\n",
        "tagged = nltk.pos_tag(tokens)\n",
        "tagged"
      ],
      "execution_count": 247,
      "outputs": [
        {
          "output_type": "execute_result",
          "data": {
            "text/plain": [
              "[('Operative', 'JJ'),\n",
              " ('Report', 'NNP'),\n",
              " ('Procedure', 'NNP'),\n",
              " ('Bilateral', 'NNP'),\n",
              " ('upper', 'NNP'),\n",
              " ('lid', 'VBD'),\n",
              " ('blepharopoasty', 'JJ'),\n",
              " ('CPT', 'NNP'),\n",
              " ('15822', 'CD'),\n",
              " ('Anesthesia', 'NNP'),\n",
              " ('Lidocaine', 'NNP'),\n",
              " ('with', 'IN'),\n",
              " ('l100000', 'NN'),\n",
              " ('epinephrine', 'NN'),\n",
              " ('This', 'DT'),\n",
              " ('65yearold', 'CD'),\n",
              " ('female', 'JJ'),\n",
              " ('demonstrates', 'NNS'),\n",
              " ('conditions', 'NNS'),\n",
              " ('of', 'IN'),\n",
              " ('excess', 'NN'),\n",
              " ('and', 'CC'),\n",
              " ('redundant', 'NN'),\n",
              " ('eyelid', 'JJ'),\n",
              " ('skin', 'NN'),\n",
              " ('with', 'IN'),\n",
              " ('puffiness', 'NN'),\n",
              " ('and', 'CC'),\n",
              " ('has', 'VBZ'),\n",
              " ('requested', 'VBN'),\n",
              " ('surgical', 'JJ'),\n",
              " ('correction', 'NN'),\n",
              " ('The', 'DT'),\n",
              " ('patient', 'NN'),\n",
              " ('was', 'VBD'),\n",
              " ('brought', 'VBN'),\n",
              " ('into', 'IN'),\n",
              " ('the', 'DT'),\n",
              " ('operating', 'NN'),\n",
              " ('room', 'NN'),\n",
              " ('and', 'CC'),\n",
              " ('placed', 'VBN'),\n",
              " ('in', 'IN'),\n",
              " ('the', 'DT'),\n",
              " ('supine', 'JJ'),\n",
              " ('position', 'NN'),\n",
              " ('on', 'IN'),\n",
              " ('the', 'DT'),\n",
              " ('operating', 'NN'),\n",
              " ('table', 'NN'),\n",
              " ('An', 'DT'),\n",
              " ('intravenous', 'JJ'),\n",
              " ('line', 'NN'),\n",
              " ('was', 'VBD'),\n",
              " ('started', 'VBN'),\n",
              " ('and', 'CC'),\n",
              " ('sedation', 'NN'),\n",
              " ('and', 'CC'),\n",
              " ('sedation', 'NN'),\n",
              " ('anesthesia', 'NN'),\n",
              " ('was', 'VBD'),\n",
              " ('administered', 'VBN'),\n",
              " ('IV', 'NNP'),\n",
              " ('after', 'IN'),\n",
              " ('preoperative', 'JJ'),\n",
              " ('PO', 'NNP'),\n",
              " ('sedation', 'NN'),\n",
              " ('The', 'DT'),\n",
              " ('patient', 'NN'),\n",
              " ('was', 'VBD'),\n",
              " ('monitored', 'VBN'),\n",
              " ('for', 'IN'),\n",
              " ('cardiac', 'JJ'),\n",
              " ('rate', 'NN'),\n",
              " ('blood', 'NN'),\n",
              " ('pressure', 'NN'),\n",
              " ('and', 'CC'),\n",
              " ('oxygen', 'NN'),\n",
              " ('saturation', 'NN'),\n",
              " ('continuously', 'RB'),\n",
              " ('The', 'DT'),\n",
              " ('excess', 'JJ'),\n",
              " ('and', 'CC'),\n",
              " ('redundant', 'JJ'),\n",
              " ('skin', 'NN'),\n",
              " ('of', 'IN'),\n",
              " ('the', 'DT'),\n",
              " ('upper', 'JJ'),\n",
              " ('lids', 'NNS'),\n",
              " ('producing', 'VBG'),\n",
              " ('redundancy', 'NN'),\n",
              " ('and', 'CC'),\n",
              " ('impairment', 'NN'),\n",
              " ('of', 'IN'),\n",
              " ('lateral', 'JJ'),\n",
              " ('vision', 'NN'),\n",
              " ('was', 'VBD'),\n",
              " ('carefully', 'RB'),\n",
              " ('measured', 'VBN'),\n",
              " ('and', 'CC'),\n",
              " ('the', 'DT'),\n",
              " ('incisions', 'NNS'),\n",
              " ('were', 'VBD'),\n",
              " ('marked', 'VBN'),\n",
              " ('for', 'IN'),\n",
              " ('fusiform', 'JJ'),\n",
              " ('excision', 'NN'),\n",
              " ('with', 'IN'),\n",
              " ('a', 'DT'),\n",
              " ('marking', 'VBG'),\n",
              " ('pen', 'VB'),\n",
              " ('The', 'DT'),\n",
              " ('surgical', 'JJ'),\n",
              " ('calipers', 'NNS'),\n",
              " ('were', 'VBD'),\n",
              " ('used', 'VBN'),\n",
              " ('to', 'TO'),\n",
              " ('measure', 'VB'),\n",
              " ('the', 'DT'),\n",
              " ('supratarsal', 'NN'),\n",
              " ('incisions', 'NNS'),\n",
              " ('so', 'IN'),\n",
              " ('that', 'IN'),\n",
              " ('the', 'DT'),\n",
              " ('incision', 'NN'),\n",
              " ('was', 'VBD'),\n",
              " ('symmetrical', 'JJ'),\n",
              " ('from', 'IN'),\n",
              " ('the', 'DT'),\n",
              " ('ciliary', 'JJ'),\n",
              " ('margin', 'NN'),\n",
              " ('bilaterally', 'RB'),\n",
              " ('The', 'DT'),\n",
              " ('upper', 'JJ'),\n",
              " ('eyelid', 'JJ'),\n",
              " ('areas', 'NNS'),\n",
              " ('were', 'VBD'),\n",
              " ('bilaterally', 'RB'),\n",
              " ('injected', 'VBN'),\n",
              " ('with', 'IN'),\n",
              " ('1', 'CD'),\n",
              " ('Lidocaine', 'NNP'),\n",
              " ('with', 'IN'),\n",
              " ('1100000', 'CD'),\n",
              " ('Epinephrine', 'NNP'),\n",
              " ('for', 'IN'),\n",
              " ('anesthesia', 'NN'),\n",
              " ('and', 'CC'),\n",
              " ('vasoconstriction', 'NN'),\n",
              " ('The', 'DT'),\n",
              " ('plane', 'NN'),\n",
              " ('of', 'IN'),\n",
              " ('injection', 'NN'),\n",
              " ('was', 'VBD'),\n",
              " ('superficial', 'JJ'),\n",
              " ('and', 'CC'),\n",
              " ('external', 'JJ'),\n",
              " ('to', 'TO'),\n",
              " ('the', 'DT'),\n",
              " ('orbital', 'JJ'),\n",
              " ('septum', 'NN'),\n",
              " ('of', 'IN'),\n",
              " ('the', 'DT'),\n",
              " ('upper', 'JJ'),\n",
              " ('and', 'CC'),\n",
              " ('lower', 'JJR'),\n",
              " ('eyelids', 'NNS'),\n",
              " ('bilaterally', 'RB'),\n",
              " ('The', 'DT'),\n",
              " ('face', 'NN'),\n",
              " ('was', 'VBD'),\n",
              " ('prepped', 'VBN'),\n",
              " ('and', 'CC'),\n",
              " ('draped', 'VBN'),\n",
              " ('in', 'IN'),\n",
              " ('the', 'DT'),\n",
              " ('usual', 'JJ'),\n",
              " ('sterile', 'JJ'),\n",
              " ('manner', 'NN'),\n",
              " ('After', 'IN'),\n",
              " ('waiting', 'VBG'),\n",
              " ('a', 'DT'),\n",
              " ('period', 'NN'),\n",
              " ('of', 'IN'),\n",
              " ('approximately', 'RB'),\n",
              " ('ten', 'JJ'),\n",
              " ('minutes', 'NNS'),\n",
              " ('for', 'IN'),\n",
              " ('adequate', 'JJ'),\n",
              " ('vasoconstriction', 'NN'),\n",
              " ('the', 'DT'),\n",
              " ('previously', 'RB'),\n",
              " ('outlined', 'VBN'),\n",
              " ('excessive', 'JJ'),\n",
              " ('skin', 'NN'),\n",
              " ('of', 'IN'),\n",
              " ('the', 'DT'),\n",
              " ('right', 'JJ'),\n",
              " ('upper', 'NN'),\n",
              " ('eyelid', 'NN'),\n",
              " ('was', 'VBD'),\n",
              " ('excised', 'VBN'),\n",
              " ('with', 'IN'),\n",
              " ('blunt', 'JJ'),\n",
              " ('dissection', 'NN'),\n",
              " ('Hemostasis', 'NNP'),\n",
              " ('was', 'VBD'),\n",
              " ('obtained', 'VBN'),\n",
              " ('with', 'IN'),\n",
              " ('a', 'DT'),\n",
              " ('bipolar', 'JJ'),\n",
              " ('cautery', 'NN'),\n",
              " ('A', 'NNP'),\n",
              " ('thin', 'JJ'),\n",
              " ('strip', 'NN'),\n",
              " ('of', 'IN'),\n",
              " ('orbicularis', 'JJ'),\n",
              " ('oculi', 'JJ'),\n",
              " ('muscle', 'NN'),\n",
              " ('was', 'VBD'),\n",
              " ('excised', 'VBN'),\n",
              " ('in', 'IN'),\n",
              " ('order', 'NN'),\n",
              " ('to', 'TO'),\n",
              " ('expose', 'VB'),\n",
              " ('the', 'DT'),\n",
              " ('orbital', 'JJ'),\n",
              " ('septum', 'NN'),\n",
              " ('on', 'IN'),\n",
              " ('the', 'DT'),\n",
              " ('right', 'NN'),\n",
              " ('The', 'DT'),\n",
              " ('defect', 'NN'),\n",
              " ('in', 'IN'),\n",
              " ('the', 'DT'),\n",
              " ('orbital', 'JJ'),\n",
              " ('septum', 'NN'),\n",
              " ('was', 'VBD'),\n",
              " ('identified', 'VBN'),\n",
              " ('and', 'CC'),\n",
              " ('herniated', 'VBN'),\n",
              " ('orbital', 'JJ'),\n",
              " ('fat', 'NN'),\n",
              " ('was', 'VBD'),\n",
              " ('exposed', 'VBN'),\n",
              " ('The', 'DT'),\n",
              " ('abnormally', 'RB'),\n",
              " ('protruding', 'VBG'),\n",
              " ('positions', 'NNS'),\n",
              " ('in', 'IN'),\n",
              " ('the', 'DT'),\n",
              " ('medial', 'JJ'),\n",
              " ('pocket', 'NN'),\n",
              " ('were', 'VBD'),\n",
              " ('carefully', 'RB'),\n",
              " ('excised', 'VBN'),\n",
              " ('and', 'CC'),\n",
              " ('the', 'DT'),\n",
              " ('stalk', 'NN'),\n",
              " ('meticulously', 'RB'),\n",
              " ('cauterized', 'VBN'),\n",
              " ('with', 'IN'),\n",
              " ('the', 'DT'),\n",
              " ('bipolar', 'JJ'),\n",
              " ('cautery', 'NN'),\n",
              " ('unit', 'NN'),\n",
              " ('A', 'NNP'),\n",
              " ('similar', 'JJ'),\n",
              " ('procedure', 'NN'),\n",
              " ('was', 'VBD'),\n",
              " ('performed', 'VBN'),\n",
              " ('exposing', 'VBG'),\n",
              " ('herniated', 'JJ'),\n",
              " ('portion', 'NN'),\n",
              " ('of', 'IN'),\n",
              " ('the', 'DT'),\n",
              " ('nasal', 'NN'),\n",
              " ('pocket', 'NN'),\n",
              " ('Great', 'NNP'),\n",
              " ('care', 'NN'),\n",
              " ('was', 'VBD'),\n",
              " ('taken', 'VBN'),\n",
              " ('to', 'TO'),\n",
              " ('obtain', 'VB'),\n",
              " ('perfect', 'JJ'),\n",
              " ('hemostasis', 'NN'),\n",
              " ('with', 'IN'),\n",
              " ('this', 'DT'),\n",
              " ('maneuver', 'NN'),\n",
              " ('A', 'DT'),\n",
              " ('similar', 'JJ'),\n",
              " ('procedure', 'NN'),\n",
              " ('of', 'IN'),\n",
              " ('removing', 'VBG'),\n",
              " ('skin', 'NN'),\n",
              " ('and', 'CC'),\n",
              " ('taking', 'VBG'),\n",
              " ('care', 'NN'),\n",
              " ('of', 'IN'),\n",
              " ('the', 'DT'),\n",
              " ('herniated', 'JJ'),\n",
              " ('fat', 'NN'),\n",
              " ('was', 'VBD'),\n",
              " ('performed', 'VBN'),\n",
              " ('on', 'IN'),\n",
              " ('the', 'DT'),\n",
              " ('left', 'JJ'),\n",
              " ('upper', 'JJ'),\n",
              " ('eyelid', 'NN'),\n",
              " ('in', 'IN'),\n",
              " ('the', 'DT'),\n",
              " ('same', 'JJ'),\n",
              " ('fashion', 'NN'),\n",
              " ('Careful', 'NNP'),\n",
              " ('hemostasis', 'NN'),\n",
              " ('had', 'VBD'),\n",
              " ('been', 'VBN'),\n",
              " ('obtained', 'VBN'),\n",
              " ('on', 'IN'),\n",
              " ('the', 'DT'),\n",
              " ('upper', 'JJ'),\n",
              " ('lid', 'JJ'),\n",
              " ('areas', 'NNS'),\n",
              " ('The', 'DT'),\n",
              " ('lateral', 'JJ'),\n",
              " ('aspects', 'NNS'),\n",
              " ('of', 'IN'),\n",
              " ('the', 'DT'),\n",
              " ('upper', 'JJ'),\n",
              " ('eyelid', 'JJ'),\n",
              " ('incisions', 'NNS'),\n",
              " ('were', 'VBD'),\n",
              " ('closed', 'VBN'),\n",
              " ('with', 'IN'),\n",
              " ('a', 'DT'),\n",
              " ('couple', 'NN'),\n",
              " ('of', 'IN'),\n",
              " ('interrupted', 'JJ'),\n",
              " ('7', 'CD'),\n",
              " ('–', 'JJ'),\n",
              " ('0', 'CD'),\n",
              " ('blue', 'JJ'),\n",
              " ('prolene', 'NN'),\n",
              " ('sutures', 'NNS'),\n",
              " ('At', 'IN'),\n",
              " ('the', 'DT'),\n",
              " ('end', 'NN'),\n",
              " ('of', 'IN'),\n",
              " ('the', 'DT'),\n",
              " ('operation', 'NN'),\n",
              " ('the', 'DT'),\n",
              " ('patientʼs', 'NN'),\n",
              " ('vision', 'NN'),\n",
              " ('and', 'CC'),\n",
              " ('extraocular', 'JJ'),\n",
              " ('muscle', 'NN'),\n",
              " ('movements', 'NNS'),\n",
              " ('were', 'VBD'),\n",
              " ('checked', 'VBN'),\n",
              " ('and', 'CC'),\n",
              " ('found', 'VBN'),\n",
              " ('to', 'TO'),\n",
              " ('be', 'VB'),\n",
              " ('intact', 'JJ'),\n",
              " ('There', 'EX'),\n",
              " ('was', 'VBD'),\n",
              " ('no', 'DT'),\n",
              " ('diplopiano', 'JJ'),\n",
              " ('ptosis', 'NN'),\n",
              " ('no', 'DT'),\n",
              " ('ectropion', 'NN'),\n",
              " ('Wounds', 'VBZ'),\n",
              " ('were', 'VBD'),\n",
              " ('reexamined', 'VBN'),\n",
              " ('for', 'IN'),\n",
              " ('hemostasis', 'NN'),\n",
              " ('and', 'CC'),\n",
              " ('no', 'DT'),\n",
              " ('hematomas', 'NN'),\n",
              " ('were', 'VBD'),\n",
              " ('noted', 'VBN'),\n",
              " ('Cooled', 'NNP'),\n",
              " ('saline', 'JJ'),\n",
              " ('compresses', 'NNS'),\n",
              " ('were', 'VBD'),\n",
              " ('placed', 'VBN'),\n",
              " ('over', 'IN'),\n",
              " ('the', 'DT'),\n",
              " ('upper', 'JJ'),\n",
              " ('and', 'CC'),\n",
              " ('lower', 'JJR'),\n",
              " ('eyelid', 'JJ'),\n",
              " ('regions', 'NNS'),\n",
              " ('bilaterally', 'RB'),\n",
              " ('The', 'DT'),\n",
              " ('procedures', 'NNS'),\n",
              " ('were', 'VBD'),\n",
              " ('completed', 'VBN'),\n",
              " ('without', 'IN'),\n",
              " ('complication', 'NN'),\n",
              " ('and', 'CC'),\n",
              " ('tolerated', 'VBN'),\n",
              " ('well', 'RB'),\n",
              " ('The', 'DT'),\n",
              " ('patient', 'NN'),\n",
              " ('left', 'VBD'),\n",
              " ('the', 'DT'),\n",
              " ('operating', 'NN'),\n",
              " ('room', 'NN'),\n",
              " ('in', 'IN'),\n",
              " ('satisfactory', 'JJ'),\n",
              " ('condition', 'NN')]"
            ]
          },
          "metadata": {
            "tags": []
          },
          "execution_count": 247
        }
      ]
    },
    {
      "cell_type": "markdown",
      "metadata": {
        "id": "ywTUDqzbVImr"
      },
      "source": [
        "Ok, so enough exploration and now I present the following keyword extraction techniques..."
      ]
    },
    {
      "cell_type": "markdown",
      "metadata": {
        "id": "MYTwXxFqvABf"
      },
      "source": [
        "# **The Techniques** \n",
        "\n",
        "Different techniques used to extract keywords"
      ]
    },
    {
      "cell_type": "markdown",
      "metadata": {
        "id": "I4NXS1C_mKu1"
      },
      "source": [
        "# **Keyword Extraction Technique : Rake**"
      ]
    },
    {
      "cell_type": "markdown",
      "metadata": {
        "id": "XFQxY49hm_NU"
      },
      "source": [
        "RAKE short for Rapid Automatic Keyword Extraction algorithm, is a domain independent keyword extraction algorithm which tries to determine key phrases in a body of text by analyzing the frequency of word appearance and its co-occurance with other words in the text."
      ]
    },
    {
      "cell_type": "code",
      "metadata": {
        "id": "CwHuvRnlmPRW"
      },
      "source": [
        "!pip install rake-nltk"
      ],
      "execution_count": null,
      "outputs": []
    },
    {
      "cell_type": "code",
      "metadata": {
        "id": "Y1k_q952mkSy"
      },
      "source": [
        "# Usage\n",
        "from rake_nltk import Metric, Rake\n",
        "\n",
        "r = Rake(\n",
        "    ranking_metric=Metric.WORD_DEGREE,\n",
        "    stopwords=stop_words,\n",
        "    max_length=3,\n",
        ")\n",
        "r.extract_keywords_from_text(text_clean)"
      ],
      "execution_count": 249,
      "outputs": []
    },
    {
      "cell_type": "code",
      "metadata": {
        "colab": {
          "base_uri": "https://localhost:8080/"
        },
        "id": "EtMCJKPuoQXu",
        "outputId": "a8c43faf-0b19-4e14-f196-658ccae1503c"
      },
      "source": [
        "# If i wanted to get keywords and phrases...\n",
        "r.get_ranked_phrases()"
      ],
      "execution_count": 250,
      "outputs": [
        {
          "output_type": "execute_result",
          "data": {
            "text/plain": [
              "['upper eyelid incisions',\n",
              " 'upper eyelid areas',\n",
              " 'left upper eyelid',\n",
              " 'right upper eyelid',\n",
              " 'redundant eyelid skin',\n",
              " 'upper lid areas',\n",
              " 'upper',\n",
              " 'obtain perfect hemostasis',\n",
              " 'fashion careful hemostasis',\n",
              " 'blunt dissection hemostasis',\n",
              " 'herniated orbital fat',\n",
              " 'lower eyelids bilaterally',\n",
              " 'ciliary margin bilaterally',\n",
              " 'bipolar cautery unit',\n",
              " 'redundant skin',\n",
              " 'preoperative po sedation',\n",
              " 'orbicularis oculi muscle',\n",
              " 'extraocular muscle movements',\n",
              " 'requested surgical correction',\n",
              " 'herniated fat',\n",
              " 'hemostasis',\n",
              " 'bipolar cautery',\n",
              " 'bilaterally injected',\n",
              " 'usual sterile manner',\n",
              " 'stalk meticulously cauterized',\n",
              " 'sedation anesthesia',\n",
              " 'removing skin',\n",
              " 'oxygen saturation continuously',\n",
              " 'completed without complication',\n",
              " 'approximately ten minutes',\n",
              " 'abnormally protruding positions',\n",
              " 'supratarsal incisions',\n",
              " 'patient left',\n",
              " 'lateral vision',\n",
              " 'surgical calipers',\n",
              " 'orbital septum',\n",
              " 'carefully excised',\n",
              " 'sedation',\n",
              " 'patientʼs vision',\n",
              " 'operating table',\n",
              " 'operating room',\n",
              " 'lateral aspects',\n",
              " 'l100000 epinephrine',\n",
              " 'incisions',\n",
              " 'carefully measured',\n",
              " '1100000 epinephrine',\n",
              " 'adequate vasoconstriction',\n",
              " 'tolerated well',\n",
              " 'thin strip',\n",
              " 'taking care',\n",
              " 'supine position',\n",
              " 'similar procedure',\n",
              " 'satisfactory condition',\n",
              " 'right',\n",
              " 'medial pocket',\n",
              " 'marking pen',\n",
              " 'intravenous line',\n",
              " 'fusiform excision',\n",
              " 'ectropion wounds',\n",
              " 'diplopiano ptosis',\n",
              " 'administered iv',\n",
              " '1 lidocaine',\n",
              " 'vasoconstriction',\n",
              " 'patient',\n",
              " 'excised',\n",
              " 'anesthesia',\n",
              " 'waiting',\n",
              " 'used',\n",
              " 'taken',\n",
              " 'symmetrical',\n",
              " 'superficial',\n",
              " 'started',\n",
              " 'reexamined',\n",
              " 'puffiness',\n",
              " 'procedures',\n",
              " 'prepped',\n",
              " 'plane',\n",
              " 'placed',\n",
              " 'period',\n",
              " 'performed',\n",
              " 'order',\n",
              " 'operation',\n",
              " 'obtained',\n",
              " 'monitored',\n",
              " 'measure',\n",
              " 'marked',\n",
              " 'maneuver',\n",
              " 'intact',\n",
              " 'injection',\n",
              " 'incision',\n",
              " 'impairment',\n",
              " 'identified',\n",
              " 'hematomas',\n",
              " 'found',\n",
              " 'face',\n",
              " 'external',\n",
              " 'exposed',\n",
              " 'expose',\n",
              " 'excess',\n",
              " 'end',\n",
              " 'draped',\n",
              " 'defect',\n",
              " 'couple',\n",
              " 'closed',\n",
              " 'checked',\n",
              " 'brought']"
            ]
          },
          "metadata": {
            "tags": []
          },
          "execution_count": 250
        }
      ]
    },
    {
      "cell_type": "markdown",
      "metadata": {
        "id": "KhYlxl3UquQx"
      },
      "source": [
        "The results for rake are dependent on having other keywords not just one. If its only one then you get a list that goes through your keywords in descending order."
      ]
    },
    {
      "cell_type": "markdown",
      "metadata": {
        "id": "DDzoFd2FZEor"
      },
      "source": [
        "# **Keyword Extraction Technique : TF-IDF**"
      ]
    },
    {
      "cell_type": "markdown",
      "metadata": {
        "id": "V7ALCYFUZQ2_"
      },
      "source": [
        "Classic algorithm which is short for term frequency–inverse document frequency. It is a numerical statistic that is intended to reflect how important a word is to a document in a collection or corpus."
      ]
    },
    {
      "cell_type": "code",
      "metadata": {
        "id": "7-tMRMjnZ50F"
      },
      "source": [
        "#import the TfidfVectorizer from Scikit-Learn.\n",
        "from sklearn.feature_extraction.text import TfidfVectorizer\n",
        "\n",
        "vectorizer = TfidfVectorizer(max_df=.65, min_df=1, use_idf=True, norm=None, max_features=10)\n",
        "transformed_documents = vectorizer.fit_transform(text_lower)"
      ],
      "execution_count": 251,
      "outputs": []
    },
    {
      "cell_type": "code",
      "metadata": {
        "id": "Ybo0yNozaeRi"
      },
      "source": [
        "transformed_documents_as_array = transformed_documents.toarray()"
      ],
      "execution_count": 252,
      "outputs": []
    },
    {
      "cell_type": "code",
      "metadata": {
        "id": "3gTy9VY8dl_x"
      },
      "source": [
        "# loop each item in transformed_documents_as_array, using enumerate to keep track of the current position\n",
        "for counter, doc in enumerate(transformed_documents_as_array):\n",
        "    # construct tuples.\n",
        "    tf_idf_tuples = list(zip(vectorizer.get_feature_names(), doc))"
      ],
      "execution_count": 253,
      "outputs": []
    },
    {
      "cell_type": "code",
      "metadata": {
        "colab": {
          "base_uri": "https://localhost:8080/"
        },
        "id": "fV9jwFf_emKG",
        "outputId": "d517c266-ab1e-4989-903f-edbd2f429905"
      },
      "source": [
        "tf_idf_tuples"
      ],
      "execution_count": 254,
      "outputs": [
        {
          "output_type": "execute_result",
          "data": {
            "text/plain": [
              "[('bilaterally', 0.0),\n",
              " ('excised', 0.0),\n",
              " ('eyelid', 0.0),\n",
              " ('hemostasis', 0.0),\n",
              " ('orbital', 0.0),\n",
              " ('procedure', 0.0),\n",
              " ('sedation', 0.0),\n",
              " ('septum', 0.0),\n",
              " ('skin', 0.0),\n",
              " ('upper', 0.0)]"
            ]
          },
          "metadata": {
            "tags": []
          },
          "execution_count": 254
        }
      ]
    },
    {
      "cell_type": "markdown",
      "metadata": {
        "id": "fPglaiJPi6RA"
      },
      "source": [
        "This result seems similar to our wordcloud results. This and rake rely on frequency of word count for ranking so let's try something else."
      ]
    },
    {
      "cell_type": "markdown",
      "metadata": {
        "id": "BIhC1zQ0fPqc"
      },
      "source": [
        "# **Keyword Extraction Technique : TopicRank**"
      ]
    },
    {
      "cell_type": "markdown",
      "metadata": {
        "id": "qM7p-9GlhPNX"
      },
      "source": [
        "First up would be TopicRank. TopicRank is an unsupervised method that aims to extract keyphrases from the most important topics of a document. They say that this technique is an improvement of the TextRank method applied to keyphrase extraction. Topics, in this case, are defined as clusters of similar keyphrase candidates. \n",
        "\n",
        "We will lift out an [implementation through pypi.](https://pypi.org/project/topicrankpy/)\n"
      ]
    },
    {
      "cell_type": "code",
      "metadata": {
        "id": "XqZSvmDK4J2F"
      },
      "source": [
        "# We will use a specific library that works on colab.\n",
        "!pip install topicrankpy\n",
        "!pip install git+https://github.com/boudinfl/pke.git"
      ],
      "execution_count": null,
      "outputs": []
    },
    {
      "cell_type": "code",
      "metadata": {
        "id": "-hToRd23BvLa"
      },
      "source": [
        "from topicrankpy import extractinformation as t"
      ],
      "execution_count": 256,
      "outputs": []
    },
    {
      "cell_type": "code",
      "metadata": {
        "colab": {
          "base_uri": "https://localhost:8080/"
        },
        "id": "XIkZlUxgCVY3",
        "outputId": "918e61d9-e6ae-460a-c106-248345a85db0"
      },
      "source": [
        "number_of_phrases = 10\n",
        "t.top_phrases_extraction('report_english.docx', number_of_phrases)"
      ],
      "execution_count": 257,
      "outputs": [
        {
          "output_type": "execute_result",
          "data": {
            "text/plain": [
              "[('orbital septum', 0.02637746219670481),\n",
              " ('patient', 0.02045432891334531),\n",
              " ('excess', 0.019459074221183623),\n",
              " ('upper', 0.018332455051769583),\n",
              " ('anesthesia', 0.017863129636011426),\n",
              " ('similar procedure', 0.017835331727677005),\n",
              " ('hemostasis', 0.017535239440597056),\n",
              " ('incisions', 0.0172933030100657),\n",
              " ('operating room', 0.014703681914043538),\n",
              " ('procedure', 0.014612462188627492)]"
            ]
          },
          "metadata": {
            "tags": []
          },
          "execution_count": 257
        }
      ]
    },
    {
      "cell_type": "markdown",
      "metadata": {
        "id": "r3QgOQZxEjt5"
      },
      "source": [
        "If we didn't rely on frequency and the goal is to just extract keywords, then these are the top 10 phrases or words suggested that is according to its corresponding significant score. \n",
        "\n",
        "Candidate weighting, in the case of TopicRank, uses a random walk algorithm so expect a stochastic or random process."
      ]
    },
    {
      "cell_type": "markdown",
      "metadata": {
        "id": "HPzsOfHoIA-b"
      },
      "source": [
        "# **Keyword Extraction Technique : BERT**"
      ]
    },
    {
      "cell_type": "markdown",
      "metadata": {
        "id": "jmv_hmgxPtxz"
      },
      "source": [
        "Maybe we want to convert our documents to vectors to capture their meaning. So why not use BERT embeddings? Here we are using SentenceTransformers - a Python framework for state-of-the-art sentence, text and image embeddings."
      ]
    },
    {
      "cell_type": "code",
      "metadata": {
        "id": "auF15HwyPOeh"
      },
      "source": [
        "# Grab this library from sentencebert.\n",
        "!pip install sentence-transformers"
      ],
      "execution_count": null,
      "outputs": []
    },
    {
      "cell_type": "code",
      "metadata": {
        "id": "kW8o3Uo0C33g"
      },
      "source": [
        "# Import CountVectorizer from scikit-learn.\n",
        "from sklearn.feature_extraction.text import CountVectorizer\n",
        "\n",
        "# This value we can set it to however we want. For n_gram_range,\n",
        "# if we change the size of the candidate to '3,3' then it means \n",
        "# we have a result of 3 keywords.\n",
        "n_gram_range = (1, 1)\n",
        "\n",
        "# Extract candidate words/phrases\n",
        "count = CountVectorizer(ngram_range=n_gram_range, stop_words=stop_words).fit([text])\n",
        "candidates = count.get_feature_names()"
      ],
      "execution_count": 259,
      "outputs": []
    },
    {
      "cell_type": "code",
      "metadata": {
        "id": "-1WOOLMQLqBb"
      },
      "source": [
        "# Import SentenceTransformer from sbert.\n",
        "from sentence_transformers import SentenceTransformer\n",
        "\n",
        "model = SentenceTransformer('distilbert-base-nli-mean-tokens')\n",
        "doc_embedding = model.encode([text])\n",
        "candidate_embeddings = model.encode(candidates)"
      ],
      "execution_count": 260,
      "outputs": []
    },
    {
      "cell_type": "markdown",
      "metadata": {
        "id": "PNT4VD5EQNrF"
      },
      "source": [
        "One thing to consider experimenting within the use of SentenceTransformer is to use other [pretrained bert models](https://www.sbert.net/docs/pretrained_models.html). My initial try was with distillbert and it seems to be ok. I tried xlm and this felt much more accurate. "
      ]
    },
    {
      "cell_type": "code",
      "metadata": {
        "id": "qApi7XR9Qlfv"
      },
      "source": [
        "# Here we use cosine similarity to determine the keywords through calculating\n",
        "# the distance between our document and candidate embeddings.\n",
        "from sklearn.metrics.pairwise import cosine_similarity\n",
        "\n",
        "top_n = 10\n",
        "distances = cosine_similarity(doc_embedding, candidate_embeddings)\n",
        "keywords = [candidates[index] for index in distances.argsort()[0][-top_n:]]"
      ],
      "execution_count": 261,
      "outputs": []
    },
    {
      "cell_type": "code",
      "metadata": {
        "colab": {
          "base_uri": "https://localhost:8080/"
        },
        "id": "yoy4QLraRRUe",
        "outputId": "e4876b54-305e-4c8e-ddb7-af5382fe40d3"
      },
      "source": [
        "keywords"
      ],
      "execution_count": 262,
      "outputs": [
        {
          "output_type": "execute_result",
          "data": {
            "text/plain": [
              "['ptosis',\n",
              " 'lidocaine',\n",
              " 'cardiac',\n",
              " 'intravenous',\n",
              " 'patient',\n",
              " 'herniated',\n",
              " 'surgical',\n",
              " 'anesthesia',\n",
              " 'hemostasis',\n",
              " 'hematomas']"
            ]
          },
          "metadata": {
            "tags": []
          },
          "execution_count": 262
        }
      ]
    },
    {
      "cell_type": "markdown",
      "metadata": {
        "id": "xddYdb4fRWwR"
      },
      "source": [
        "So according to BERT, these are top 10 keywords of the document. Seems to do well in terms of capturing semantics and keyword identification."
      ]
    }
  ]
}